{
  "nbformat": 4,
  "nbformat_minor": 0,
  "metadata": {
    "colab": {
      "name": "“Stock Data Collection (Yahoo).ipynb”",
      "version": "0.3.2",
      "provenance": []
    },
    "kernelspec": {
      "name": "python3",
      "display_name": "Python 3"
    }
  },
  "cells": [
    {
      "cell_type": "code",
      "metadata": {
        "id": "rZf40PCVpQ6O",
        "colab_type": "code",
        "colab": {}
      },
      "source": [
        "import requests\n",
        "import pandas as pd\n",
        "import numpy as np\n",
        "from pandas import read_csv\n",
        "import glob\n",
        "import time\n",
        "import datetime\n",
        "import os\n",
        "import os.path"
      ],
      "execution_count": 0,
      "outputs": []
    },
    {
      "cell_type": "code",
      "metadata": {
        "id": "wDuSWIh6qZfq",
        "colab_type": "code",
        "outputId": "771b775d-87e2-4bca-9ad5-2c39adf438ae",
        "colab": {
          "base_uri": "https://localhost:8080/",
          "height": 124
        }
      },
      "source": [
        "from google.colab import drive\n",
        "drive.mount('/content/gdrive/')"
      ],
      "execution_count": 0,
      "outputs": [
        {
          "output_type": "stream",
          "text": [
            "Go to this URL in a browser: https://accounts.google.com/o/oauth2/auth?client_id=947318989803-6bn6qk8qdgf4n4g3pfee6491hc0brc4i.apps.googleusercontent.com&redirect_uri=urn%3Aietf%3Awg%3Aoauth%3A2.0%3Aoob&scope=email%20https%3A%2F%2Fwww.googleapis.com%2Fauth%2Fdocs.test%20https%3A%2F%2Fwww.googleapis.com%2Fauth%2Fdrive%20https%3A%2F%2Fwww.googleapis.com%2Fauth%2Fdrive.photos.readonly%20https%3A%2F%2Fwww.googleapis.com%2Fauth%2Fpeopleapi.readonly&response_type=code\n",
            "\n",
            "Enter your authorization code:\n",
            "··········\n",
            "Mounted at /content/gdrive/\n"
          ],
          "name": "stdout"
        }
      ]
    },
    {
      "cell_type": "code",
      "metadata": {
        "id": "173uVzokjEG5",
        "colab_type": "code",
        "colab": {}
      },
      "source": [
        "# Get tickers\n",
        "ticker = read_csv('/content/gdrive/My Drive/Data/TICKER.csv',header = None)\n",
        "path = '/content/gdrive/My Drive/Data/Raw Data/'\n",
        "IDList = list(Bank[0])\n",
        "IDList.sort()"
      ],
      "execution_count": 0,
      "outputs": []
    },
    {
      "cell_type": "code",
      "metadata": {
        "id": "NdFCNVY043MV",
        "colab_type": "code",
        "colab": {}
      },
      "source": [
        "# Set Dates\n",
        "start = '01/01/2015'\n",
        "end = str(int(time.time()))\n",
        "stamp = datetime.datetime.strptime(start, \"%d/%m/%Y\").timestamp()\n",
        "stamp = str(int(stamp))"
      ],
      "execution_count": 0,
      "outputs": []
    },
    {
      "cell_type": "code",
      "metadata": {
        "id": "DScr70HA4wMS",
        "colab_type": "code",
        "colab": {}
      },
      "source": [
        "# Download Data\n",
        "for i in IDList:\n",
        "  site = 'https://query1.finance.yahoo.com/v7/finance/download/' + i + '?period1='+ stamp + '&period2=' + end + '&interval=1d&events=history&crumb=hP2rOschxO0'\n",
        "  ##wk; mo; d\n",
        "  response = requests.post(site)\n",
        "  idint = i.replace('.hk','')\n",
        "  idint = idint.replace('.HK','')\n",
        "  save = path + idint + '.csv'\n",
        "  dirname = os.path.dirname(save)\n",
        "  if not os.path.exists(dirname):\n",
        "    os.makedirs(dirname)\n",
        "  with open(save , 'w') as f:\n",
        "    f.writelines(response.text)\n",
        "    print(i)"
      ],
      "execution_count": 0,
      "outputs": []
    },
    {
      "cell_type": "code",
      "metadata": {
        "id": "SKpdh3Wd5yO3",
        "colab_type": "code",
        "colab": {}
      },
      "source": [
        "# Format the data\n",
        "path = '/content/gdrive/My Drive/Data/'\n",
        "filenames = glob.glob(path + 'Raw Data/' + \"/*.csv\")\n",
        "\n",
        "Files = []\n",
        "for name in filenames:\n",
        "  df = read_csv(name, header=0,index_col=None)\n",
        "  df=df.sort_values(by=['Date'])\n",
        "  col = name.replace(path+ 'Raw Data/','')\n",
        "  col = col.replace('.csv', '')\n",
        "  df['ID'] = col\n",
        "  Files = Files + [df]\n",
        "  \n",
        "feature = 'Close'\n",
        "\n",
        "Output = pd.DataFrame({})\n",
        "for file in Files:\n",
        "  col = file['ID'].iloc[0]\n",
        "  file = file.set_index('Date')\n",
        "  temp=file[feature].to_frame()\n",
        "  temp.columns=[col]\n",
        "  if temp.index.duplicated().any():\n",
        "    temp = temp.reset_index().drop_duplicates(subset='Date', keep='first').set_index('Date')\n",
        "  Output=pd.concat([Output, temp], axis=1)\n",
        "save = path+'WorkFile/'+feature + '.csv'\n",
        "Output = Output.round(2)\n",
        "Output.to_csv(save,index=True,na_rep='NA')\n",
        "    \n"
      ],
      "execution_count": 0,
      "outputs": []
    }
  ]
}